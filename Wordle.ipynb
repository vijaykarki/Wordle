{
 "cells": [
  {
   "cell_type": "code",
   "execution_count": 2,
   "metadata": {},
   "outputs": [],
   "source": [
    "import sys\n",
    "from pandas import *\n",
    "green_sq = '\\U0001F7E9' # unicode for green square\n",
    "yellow_sq = '\\U0001F7E8'\n",
    "black_sq = '\\U00002B1B'\n",
    "\n",
    "\n",
    "single_word = input(\"Enter a five letter english word\")\n",
    "assert not len(single_word) != 5, \"Please provide five letter word\"\n",
    "# if len(single_word) != 5:\n",
    "#     print(\"Error! Only 5 characters allowed!\")\n",
    "#     sys.exit()\n",
    "\n",
    "\n",
    "list_of_words = {}\n",
    "with open(\"wordlist.txt\") as wordlist:\n",
    "    list_of_words = [line.rstrip() for line in wordlist.readlines()]\n",
    "\n",
    "if single_word not in list_of_words:\n",
    "    print(\"Please only use valid english letter word\")\n",
    "    sys.exit(0)"
   ]
  },
  {
   "cell_type": "markdown",
   "metadata": {},
   "source": [
    "In the above code, user input is given and list of words is being read from a word list"
   ]
  },
  {
   "cell_type": "markdown",
   "metadata": {},
   "source": [
    "the following section holds code for comparing string and list to create a encoding of base 3"
   ]
  },
  {
   "cell_type": "code",
   "execution_count": 3,
   "metadata": {},
   "outputs": [],
   "source": [
    "def similar_word (single_string, string_list):\n",
    "    similar_list = []\n",
    "    counter = 1\n",
    "    for i_word in range(len(string_list)):\n",
    "        current_word = string_list[i_word]\n",
    "        if current_word == single_string:\n",
    "            while counter < 7:\n",
    "                similar_list.append(current_word)\n",
    "                counter += 1\n",
    "        else:\n",
    "            continue\n",
    "    return similar_list"
   ]
  },
  {
   "cell_type": "code",
   "execution_count": 4,
   "metadata": {},
   "outputs": [],
   "source": [
    "def checkWord(single_string, string_list):\n",
    "    \n",
    "    result_list = []\n",
    "    for i_word in range(len(string_list)):\n",
    "        result_list.append([])\n",
    "        current_word = string_list[i_word]\n",
    "        for char_word in range(len(current_word)):\n",
    "            result = 0\n",
    "            for ch in range(len(single_string)):\n",
    "                if current_word[char_word] == single_string[ch]:\n",
    "                    result = 1\n",
    "            result_list[-1].append(result)\n",
    "    \n",
    "    for i_word in range(len(string_list)):\n",
    "        current_word = string_list[i_word]\n",
    "        for char_word in range(len(current_word)):\n",
    "            if (current_word[char_word] == single_string[char_word]):\n",
    "                result_list[i_word][char_word] = 2\n",
    "    \n",
    "    return result_list"
   ]
  },
  {
   "cell_type": "code",
   "execution_count": 5,
   "metadata": {},
   "outputs": [
    {
     "name": "stdout",
     "output_type": "stream",
     "text": [
      "['blank', 'blank', 'blank', 'blank', 'blank', 'blank']\n",
      "[[2, 2, 2, 2, 2], [2, 2, 2, 2, 2], [2, 2, 2, 2, 2], [2, 2, 2, 2, 2], [2, 2, 2, 2, 2], [2, 2, 2, 2, 2]]\n"
     ]
    }
   ],
   "source": [
    "similar_list = similar_word(single_word, list_of_words)\n",
    "result = checkWord(single_word, similar_list)\n",
    "\n",
    "print(similar_list)\n",
    "print(result)"
   ]
  },
  {
   "cell_type": "code",
   "execution_count": 6,
   "metadata": {},
   "outputs": [
    {
     "name": "stdout",
     "output_type": "stream",
     "text": [
      "🟩🟩🟩🟩🟩\n",
      "🟩🟩🟩🟩🟩\n",
      "🟩🟩🟩🟩🟩\n",
      "🟩🟩🟩🟩🟩\n",
      "🟩🟩🟩🟩🟩\n",
      "🟩🟩🟩🟩🟩\n"
     ]
    }
   ],
   "source": [
    "for i in range(len(result)):\n",
    "    current_word = result[i]\n",
    "    for i_char in current_word:\n",
    "        if i_char == 0:\n",
    "            print(black_sq, end='')\n",
    "        elif i_char == 1:\n",
    "            print(yellow_sq, end='')\n",
    "        elif i_char == 2:\n",
    "            print(green_sq, end='')\n",
    "    print()"
   ]
  },
  {
   "cell_type": "code",
   "execution_count": null,
   "metadata": {},
   "outputs": [],
   "source": []
  }
 ],
 "metadata": {
  "kernelspec": {
   "display_name": "Python 3.11.0 64-bit",
   "language": "python",
   "name": "python3"
  },
  "language_info": {
   "codemirror_mode": {
    "name": "ipython",
    "version": 3
   },
   "file_extension": ".py",
   "mimetype": "text/x-python",
   "name": "python",
   "nbconvert_exporter": "python",
   "pygments_lexer": "ipython3",
   "version": "3.11.0"
  },
  "orig_nbformat": 4,
  "vscode": {
   "interpreter": {
    "hash": "ebfc0a8d552866b0d59eba665220a57de3bc06f3ac643b8bef38dd8f66781fdd"
   }
  }
 },
 "nbformat": 4,
 "nbformat_minor": 2
}
