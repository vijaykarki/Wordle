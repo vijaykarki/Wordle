{
 "cells": [
  {
   "cell_type": "code",
   "execution_count": 35,
   "metadata": {},
   "outputs": [],
   "source": [
    "import sys\n",
    "import numpy as np\n",
    "import matplotlib.pyplot as plt\n",
    "from matplotlib.ticker import FormatStrFormatter\n",
    "\n",
    "green_sq = '\\U0001F7E9' # unicode for green square\n",
    "yellow_sq = '\\U0001F7E8'\n",
    "black_sq = '\\U00002B1B'\n",
    "\n",
    "list_of_words = {}\n",
    "with open(\"wordlist.txt\") as wordlist:\n",
    "    list_of_words = [line.rstrip() for line in wordlist.readlines()]\n",
    "    list_of_words = list_of_words[:500]\n",
    "randomWord = np.random.choice(list_of_words)\n"
   ]
  },
  {
   "cell_type": "code",
   "execution_count": 36,
   "metadata": {},
   "outputs": [],
   "source": [
    "def getWord(argument):\n",
    "    # single_word = input(\"Enter a five letter english word\")\n",
    "    single_word = argument\n",
    "    assert not len(single_word) != 5, \"Please provide five letter word\"\n",
    "    if single_word not in list_of_words:\n",
    "        print(\"Please only use valid english letter word\")\n",
    "        sys.exit(0)\n",
    "    return single_word"
   ]
  },
  {
   "cell_type": "markdown",
   "metadata": {},
   "source": [
    "In the above code, user input is given and list of words is being read from a word list"
   ]
  },
  {
   "cell_type": "markdown",
   "metadata": {},
   "source": [
    "the following section holds code for comparing string and list to create a encoding of base 3"
   ]
  },
  {
   "cell_type": "code",
   "execution_count": 37,
   "metadata": {},
   "outputs": [],
   "source": [
    "def generateEncoding(single_string, string_list):\n",
    "    \n",
    "    result_list = []\n",
    "    for i_word in range(len(string_list)):\n",
    "        result_list.append([])\n",
    "        current_word = string_list[i_word]\n",
    "        for char_word in range(len(current_word)):\n",
    "            result = 0\n",
    "            for ch in range(len(single_string)):\n",
    "                if current_word[char_word] == single_string[ch]:\n",
    "                    result = 1\n",
    "            result_list[-1].append(result)\n",
    "    \n",
    "    for i_word in range(len(string_list)):\n",
    "        current_word = string_list[i_word]\n",
    "        for char_word in range(len(current_word)):\n",
    "            if (current_word[char_word] == single_string[char_word]):\n",
    "                result_list[i_word][char_word] = 2\n",
    "    \n",
    "    return result_list"
   ]
  },
  {
   "cell_type": "code",
   "execution_count": 74,
   "metadata": {},
   "outputs": [
    {
     "name": "stdout",
     "output_type": "stream",
     "text": [
      "[0]\n"
     ]
    },
    {
     "ename": "TypeError",
     "evalue": "unsupported operand type(s) for -: 'list' and 'int'",
     "output_type": "error",
     "traceback": [
      "\u001b[1;31m---------------------------------------------------------------------------\u001b[0m",
      "\u001b[1;31mTypeError\u001b[0m                                 Traceback (most recent call last)",
      "Cell \u001b[1;32mIn [74], line 17\u001b[0m\n\u001b[0;32m     15\u001b[0m     \u001b[39m# np.count_nonzero(sum_of_zero == 5) and np.count_nonzero(sum_of_encoding == 0)\u001b[39;00m\n\u001b[0;32m     16\u001b[0m     \u001b[39mprint\u001b[39m(zero)\n\u001b[1;32m---> 17\u001b[0m     index \u001b[39m=\u001b[39m np\u001b[39m.\u001b[39;49marange(zero)\n\u001b[0;32m     18\u001b[0m     \u001b[39m# plt.bar(index, zero, width=0.76)\u001b[39;00m\n\u001b[0;32m     19\u001b[0m     \u001b[39m# plt.rc('figure', figsize=(5,5))\u001b[39;00m\n\u001b[0;32m     20\u001b[0m     \u001b[39m# ax1 = f1.add_subplot(111)\u001b[39;00m\n\u001b[1;32m   (...)\u001b[0m\n\u001b[0;32m     30\u001b[0m \u001b[39m#     ax3.plot( sum_of_two)\u001b[39;00m\n\u001b[0;32m     31\u001b[0m \u001b[39m#     ax3.set_title('Mathing letters right place')\u001b[39;00m\n\u001b[0;32m     32\u001b[0m plt\u001b[39m.\u001b[39mshow()\n",
      "\u001b[1;31mTypeError\u001b[0m: unsupported operand type(s) for -: 'list' and 'int'"
     ]
    },
    {
     "data": {
      "text/plain": [
       "<Figure size 500x500 with 0 Axes>"
      ]
     },
     "metadata": {},
     "output_type": "display_data"
    }
   ],
   "source": [
    "zero = []\n",
    "f1 =plt.figure()\n",
    "# f2 =plt.figure()\n",
    "# f3 =plt.figure()\n",
    "for word in list_of_words:\n",
    "    # print(list_of_words)\n",
    "    result = generateEncoding(word, list_of_words)\n",
    "    sum_of_zero = np.sum(np.asarray(result) == 0, axis=1)\n",
    "    sum_of_one = np.sum(np.asarray(result) == 1, axis=1)\n",
    "    sum_of_two = np.sum(np.asarray(result) == 2, axis=1)\n",
    "    sum_of_encoding = np.sum(result,axis=1)\n",
    "    # print(sum_of_encoding)\n",
    "    # print(sum_of_zero)\n",
    "    np.count_nonzero(sum_of_zero == 5) and np.count_nonzero(sum_of_encoding == 0)\n",
    "    # print(zero)\n",
    "    index = np.arange(zero)\n",
    "    # plt.bar(index, zero, width=0.76)\n",
    "    # plt.rc('figure', figsize=(5,5))\n",
    "    # ax1 = f1.add_subplot(111)\n",
    "    # ax1.plot(zero)\n",
    "    # ax1.set_title(\"No Matchings\")\n",
    "\n",
    "#     ax2 = f2.add_subplot(111)\n",
    "#     ax2.plot( sum_of_one)\n",
    "#     ax2.set_title('Mathing letters wrong place')\n",
    "    \n",
    "\n",
    "#     ax3 = f3.add_subplot(111)\n",
    "#     ax3.plot( sum_of_two)\n",
    "#     ax3.set_title('Mathing letters right place')\n",
    "plt.show()\n"
   ]
  },
  {
   "cell_type": "code",
   "execution_count": 39,
   "metadata": {},
   "outputs": [],
   "source": [
    "def sortFunction(argument):\n",
    "    newResult = []\n",
    "    sum_of_encoding = np.sum(argument,axis=1)\n",
    "    # count_of_one = np.sum(np.asarray(argument) == 1, axis = 1)\n",
    "    count_of_zeros = np.sum(np.asarray(argument) == 0, axis = 1)\n",
    "    count_of_two = np.sum(np.asarray(argument) == 2, axis = 1)\n",
    "    for i in range(len(argument)):\n",
    "        if(sum_of_encoding[i] <= 7):\n",
    "            if count_of_zeros[i] <= 2:\n",
    "                if (count_of_two[i] <= 1):\n",
    "                    newResult.append(argument[i])\n",
    "    return newResult"
   ]
  },
  {
   "cell_type": "code",
   "execution_count": 40,
   "metadata": {},
   "outputs": [],
   "source": [
    "def removeDuplicate(argument):\n",
    "    res = []\n",
    "    [res.append(i) for i in argument if i not in res]\n",
    "    return res"
   ]
  },
  {
   "cell_type": "code",
   "execution_count": 41,
   "metadata": {},
   "outputs": [],
   "source": [
    "def compareEncodings(result_list, string_list, finalEncoding):\n",
    "    finalString = []\n",
    "    for i_word in range(len(finalEncoding)):\n",
    "        for i in range(len(result_list)):\n",
    "            if(finalEncoding[i_word] == result_list[i]):\n",
    "                word = string_list[i]\n",
    "            else:\n",
    "                continue\n",
    "        finalString.append(word)\n",
    "    return finalString"
   ]
  },
  {
   "cell_type": "code",
   "execution_count": 42,
   "metadata": {},
   "outputs": [],
   "source": [
    "def printColorMetrix(argument):\n",
    "    for i in range(len(argument)):\n",
    "        current_word = argument[i]\n",
    "        for i_char in current_word:\n",
    "            if i_char == 0:\n",
    "                print(black_sq, end='')\n",
    "            elif i_char == 1:\n",
    "                print(yellow_sq, end='')\n",
    "            elif i_char == 2:\n",
    "                print(green_sq, end='')\n",
    "        print()"
   ]
  },
  {
   "cell_type": "code",
   "execution_count": 43,
   "metadata": {},
   "outputs": [],
   "source": [
    "def run(argument):\n",
    "    single_word = getWord(argument)\n",
    "    result = generateEncoding(single_word, list_of_words)\n",
    "    newResult = sortFunction(result)\n",
    "    newEncoding = removeDuplicate(newResult)[:6]\n",
    "    finalString = compareEncodings(result, list_of_words, newEncoding)\n",
    "\n",
    "    # selectRandom(removeDuplicate(newResult))\n",
    "\n",
    "    for i in range(len(finalString)):\n",
    "        print (finalString[i])\n",
    "\n",
    "    printColorMetrix(newEncoding)\n",
    "    \n"
   ]
  },
  {
   "cell_type": "code",
   "execution_count": 44,
   "metadata": {},
   "outputs": [
    {
     "name": "stdout",
     "output_type": "stream",
     "text": [
      "birch\n",
      "cache\n",
      "cacti\n",
      "civic\n",
      "civil\n",
      "conic\n",
      "⬛🟨⬛🟩🟨\n",
      "🟩⬛🟨🟨⬛\n",
      "🟩⬛🟨⬛🟨\n",
      "🟩🟨⬛🟨🟨\n",
      "🟩🟨⬛🟨⬛\n",
      "🟩⬛⬛🟨🟨\n"
     ]
    }
   ],
   "source": [
    "run(randomWord)\n"
   ]
  }
 ],
 "metadata": {
  "kernelspec": {
   "display_name": "Python 3.11.0 64-bit",
   "language": "python",
   "name": "python3"
  },
  "language_info": {
   "codemirror_mode": {
    "name": "ipython",
    "version": 3
   },
   "file_extension": ".py",
   "mimetype": "text/x-python",
   "name": "python",
   "nbconvert_exporter": "python",
   "pygments_lexer": "ipython3",
   "version": "3.11.0 (main, Oct 24 2022, 18:26:48) [MSC v.1933 64 bit (AMD64)]"
  },
  "orig_nbformat": 4,
  "vscode": {
   "interpreter": {
    "hash": "ebfc0a8d552866b0d59eba665220a57de3bc06f3ac643b8bef38dd8f66781fdd"
   }
  }
 },
 "nbformat": 4,
 "nbformat_minor": 2
}
