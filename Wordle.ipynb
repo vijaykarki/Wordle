{
 "cells": [
  {
   "cell_type": "code",
   "execution_count": 290,
   "metadata": {},
   "outputs": [],
   "source": [
    "import sys\n",
    "import numpy as np\n",
    "\n",
    "green_sq = '\\U0001F7E9' # unicode for green square\n",
    "yellow_sq = '\\U0001F7E8'\n",
    "black_sq = '\\U00002B1B'\n",
    "\n",
    "\n",
    "single_word = input(\"Enter a five letter english word\")\n",
    "assert not len(single_word) != 5, \"Please provide five letter word\"\n",
    "# if len(single_word) != 5:\n",
    "#     print(\"Error! Only 5 characters allowed!\")\n",
    "#     sys.exit()\n",
    "\n",
    "\n",
    "list_of_words = {}\n",
    "with open(\"wordlist.txt\") as wordlist:\n",
    "    list_of_words = [line.rstrip() for line in wordlist.readlines()]\n",
    "    # list_of_words = list_of_words[:20]\n",
    "\n",
    "if single_word not in list_of_words:\n",
    "    print(\"Please only use valid english letter word\")\n",
    "    sys.exit(0)"
   ]
  },
  {
   "cell_type": "markdown",
   "metadata": {},
   "source": [
    "In the above code, user input is given and list of words is being read from a word list"
   ]
  },
  {
   "cell_type": "markdown",
   "metadata": {},
   "source": [
    "the following section holds code for comparing string and list to create a encoding of base 3"
   ]
  },
  {
   "cell_type": "code",
   "execution_count": 291,
   "metadata": {},
   "outputs": [],
   "source": [
    "def checkWord(single_string, string_list):\n",
    "    \n",
    "    result_list = []\n",
    "    for i_word in range(len(string_list)):\n",
    "        result_list.append([])\n",
    "        current_word = string_list[i_word]\n",
    "        for char_word in range(len(current_word)):\n",
    "            result = 0\n",
    "            for ch in range(len(single_string)):\n",
    "                if current_word[char_word] == single_string[ch]:\n",
    "                    result = 1\n",
    "            result_list[-1].append(result)\n",
    "    \n",
    "    for i_word in range(len(string_list)):\n",
    "        current_word = string_list[i_word]\n",
    "        for char_word in range(len(current_word)):\n",
    "            if (current_word[char_word] == single_string[char_word]):\n",
    "                result_list[i_word][char_word] = 2\n",
    "    \n",
    "    return result_list"
   ]
  },
  {
   "cell_type": "code",
   "execution_count": 292,
   "metadata": {},
   "outputs": [],
   "source": [
    "result = checkWord(single_word, list_of_words)\n",
    "def sortFunction(argument):\n",
    "    newResult = []\n",
    "    sum_of_encoding = np.sum(argument,axis=1)\n",
    "    # count_of_one = np.sum(np.asarray(argument) == 1, axis = 1)\n",
    "    count_of_zeros = np.sum(np.asarray(argument) == 0, axis = 1)\n",
    "    count_of_two = np.sum(np.asarray(argument) == 2, axis = 1)\n",
    "    for i in range(len(argument)):\n",
    "        if(sum_of_encoding[i] <= 7):\n",
    "            if count_of_zeros[i] <= 2:\n",
    "                if (count_of_two[i] <= 1):\n",
    "                    newResult.append(argument[i])\n",
    "    return newResult"
   ]
  },
  {
   "cell_type": "code",
   "execution_count": 301,
   "metadata": {},
   "outputs": [
    {
     "name": "stdout",
     "output_type": "stream",
     "text": [
      "🟨⬛🟩⬛🟨\n",
      "🟩🟨⬛🟨⬛\n",
      "🟨🟨⬛⬛🟨\n",
      "🟨⬛⬛🟨🟨\n",
      "🟨⬛🟨🟨⬛\n",
      "🟨⬛🟩⬛🟨\n"
     ]
    }
   ],
   "source": [
    "newResult = sortFunction(result)\n",
    "counter = 6\n",
    "# print(newResult)\n",
    "newEncoding = []\n",
    "for i in range(counter):\n",
    "    # word = newResult[i]\n",
    "    # another_word = newResult[i-1]\n",
    "    # for i_word in range(len(word)):\n",
    "    #     if(word[i_word] == another_word[i_word]):\n",
    "    #         continue\n",
    "    newEncoding.append(newResult[i])\n",
    "\n",
    "# print(newEncoding)"
   ]
  },
  {
   "cell_type": "code",
   "execution_count": 2,
   "metadata": {},
   "outputs": [
    {
     "ename": "NameError",
     "evalue": "name 'result' is not defined",
     "output_type": "error",
     "traceback": [
      "\u001b[1;31m---------------------------------------------------------------------------\u001b[0m",
      "\u001b[1;31mNameError\u001b[0m                                 Traceback (most recent call last)",
      "Cell \u001b[1;32mIn [2], line 15\u001b[0m\n\u001b[0;32m     11\u001b[0m         \u001b[39mprint\u001b[39m(\u001b[39m\"\u001b[39m\u001b[39m\"\u001b[39m)\n\u001b[0;32m     12\u001b[0m     \u001b[39mprint\u001b[39m(finalString)\n\u001b[1;32m---> 15\u001b[0m compareEncodings(result, list_of_words, newResult)\n\u001b[0;32m     17\u001b[0m \u001b[39mfor\u001b[39;00m i \u001b[39min\u001b[39;00m \u001b[39mrange\u001b[39m(\u001b[39mlen\u001b[39m(newEncoding)):\n\u001b[0;32m     18\u001b[0m     current_word \u001b[39m=\u001b[39m newEncoding[i]\n",
      "\u001b[1;31mNameError\u001b[0m: name 'result' is not defined"
     ]
    }
   ],
   "source": [
    "def compareEncodings(result_list, string_list, finalEncoding):\n",
    "    finalString = []\n",
    "    for i_word in range(len(finalEncoding)):\n",
    "        for i in range(len(result_list)):\n",
    "            print(finalEncoding[i_word])\n",
    "            if(finalEncoding[i_word] == result_list[i]):\n",
    "                word = string_list[i]\n",
    "            else:\n",
    "                continue\n",
    "        finalString.append(word)\n",
    "        print(\"\")\n",
    "    print(finalString)\n",
    "\n",
    "compareEncodings(result, list_of_words, newResult)\n",
    "\n",
    "for i in range(len(newEncoding)):\n",
    "    current_word = newEncoding[i]\n",
    "    for i_char in current_word:\n",
    "        if i_char == 0:\n",
    "            print(black_sq, end='')\n",
    "        elif i_char == 1:\n",
    "            print(yellow_sq, end='')\n",
    "        elif i_char == 2:\n",
    "            print(green_sq, end='')\n",
    "    print()"
   ]
  }
 ],
 "metadata": {
  "kernelspec": {
   "display_name": "Python 3.11.0 64-bit",
   "language": "python",
   "name": "python3"
  },
  "language_info": {
   "codemirror_mode": {
    "name": "ipython",
    "version": 3
   },
   "file_extension": ".py",
   "mimetype": "text/x-python",
   "name": "python",
   "nbconvert_exporter": "python",
   "pygments_lexer": "ipython3",
   "version": "3.11.0"
  },
  "orig_nbformat": 4,
  "vscode": {
   "interpreter": {
    "hash": "ebfc0a8d552866b0d59eba665220a57de3bc06f3ac643b8bef38dd8f66781fdd"
   }
  }
 },
 "nbformat": 4,
 "nbformat_minor": 2
}
