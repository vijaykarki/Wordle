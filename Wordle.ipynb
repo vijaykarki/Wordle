{
 "cells": [
  {
   "cell_type": "code",
   "execution_count": 165,
   "metadata": {},
   "outputs": [
    {
     "name": "stdout",
     "output_type": "stream",
     "text": [
      "fleck\n"
     ]
    }
   ],
   "source": [
    "import sys\n",
    "import numpy as np\n",
    "from random import *\n",
    "green_sq = '\\U0001F7E9' # unicode for green square\n",
    "yellow_sq = '\\U0001F7E8'\n",
    "black_sq = '\\U00002B1B'\n",
    "\n",
    "list_of_words = {}\n",
    "with open(\"wordlist.txt\") as wordlist:\n",
    "    list_of_words = [line.rstrip() for line in wordlist.readlines()]\n",
    "    # list_of_words = list_of_words[:20]\n",
    "randomWord = np.random.choice(list_of_words)\n"
   ]
  },
  {
   "cell_type": "code",
   "execution_count": 166,
   "metadata": {},
   "outputs": [],
   "source": [
    "def getWord(argument):\n",
    "    # single_word = input(\"Enter a five letter english word\")\n",
    "    single_word = argument\n",
    "    assert not len(single_word) != 5, \"Please provide five letter word\"\n",
    "    if single_word not in list_of_words:\n",
    "        print(\"Please only use valid english letter word\")\n",
    "        sys.exit(0)\n",
    "    return single_word"
   ]
  },
  {
   "cell_type": "markdown",
   "metadata": {},
   "source": [
    "In the above code, user input is given and list of words is being read from a word list"
   ]
  },
  {
   "cell_type": "markdown",
   "metadata": {},
   "source": [
    "the following section holds code for comparing string and list to create a encoding of base 3"
   ]
  },
  {
   "cell_type": "code",
   "execution_count": 167,
   "metadata": {},
   "outputs": [],
   "source": [
    "def generateEncoding(single_string, string_list):\n",
    "    \n",
    "    result_list = []\n",
    "    for i_word in range(len(string_list)):\n",
    "        result_list.append([])\n",
    "        current_word = string_list[i_word]\n",
    "        for char_word in range(len(current_word)):\n",
    "            result = 0\n",
    "            for ch in range(len(single_string)):\n",
    "                if current_word[char_word] == single_string[ch]:\n",
    "                    result = 1\n",
    "            result_list[-1].append(result)\n",
    "    \n",
    "    for i_word in range(len(string_list)):\n",
    "        current_word = string_list[i_word]\n",
    "        for char_word in range(len(current_word)):\n",
    "            if (current_word[char_word] == single_string[char_word]):\n",
    "                result_list[i_word][char_word] = 2\n",
    "    \n",
    "    return result_list"
   ]
  },
  {
   "cell_type": "code",
   "execution_count": 168,
   "metadata": {},
   "outputs": [],
   "source": [
    "def sortFunction(argument):\n",
    "    newResult = []\n",
    "    sum_of_encoding = np.sum(argument,axis=1)\n",
    "    # count_of_one = np.sum(np.asarray(argument) == 1, axis = 1)\n",
    "    count_of_zeros = np.sum(np.asarray(argument) == 0, axis = 1)\n",
    "    count_of_two = np.sum(np.asarray(argument) == 2, axis = 1)\n",
    "    for i in range(len(argument)):\n",
    "        if(sum_of_encoding[i] <= 7):\n",
    "            if count_of_zeros[i] <= 2:\n",
    "                if (count_of_two[i] <= 1):\n",
    "                    newResult.append(argument[i])\n",
    "    return newResult"
   ]
  },
  {
   "cell_type": "code",
   "execution_count": 169,
   "metadata": {},
   "outputs": [],
   "source": [
    "def removeDuplicate(argument):\n",
    "    res = []\n",
    "    [res.append(i) for i in argument if i not in res]\n",
    "    return res"
   ]
  },
  {
   "cell_type": "code",
   "execution_count": 170,
   "metadata": {},
   "outputs": [],
   "source": [
    "def compareEncodings(result_list, string_list, finalEncoding):\n",
    "    finalString = []\n",
    "    for i_word in range(len(finalEncoding)):\n",
    "        for i in range(len(result_list)):\n",
    "            if(finalEncoding[i_word] == result_list[i]):\n",
    "                word = string_list[i]\n",
    "            else:\n",
    "                continue\n",
    "        finalString.append(word)\n",
    "    return finalString"
   ]
  },
  {
   "cell_type": "code",
   "execution_count": 171,
   "metadata": {},
   "outputs": [],
   "source": [
    "def printColorMetrix(argument):\n",
    "    for i in range(len(argument)):\n",
    "        current_word = argument[i]\n",
    "        for i_char in current_word:\n",
    "            if i_char == 0:\n",
    "                print(black_sq, end='')\n",
    "            elif i_char == 1:\n",
    "                print(yellow_sq, end='')\n",
    "            elif i_char == 2:\n",
    "                print(green_sq, end='')\n",
    "        print()"
   ]
  },
  {
   "cell_type": "code",
   "execution_count": 172,
   "metadata": {},
   "outputs": [],
   "source": [
    "def run(argument):\n",
    "    single_word = getWord(argument)\n",
    "    result = generateEncoding(single_word, list_of_words)\n",
    "    newResult = sortFunction(result)\n",
    "    newEncoding = removeDuplicate(newResult)[:6]\n",
    "    finalString = compareEncodings(result, list_of_words, newEncoding)\n",
    "\n",
    "    # selectRandom(removeDuplicate(newResult))\n",
    "\n",
    "    for i in range(len(finalString)):\n",
    "        print (finalString[i])\n",
    "\n",
    "    printColorMetrix(newEncoding)\n",
    "    \n"
   ]
  },
  {
   "cell_type": "code",
   "execution_count": 173,
   "metadata": {},
   "outputs": [
    {
     "name": "stdout",
     "output_type": "stream",
     "text": [
      "bluff\n",
      "ulcer\n",
      "uncle\n",
      "geeky\n",
      "welch\n",
      "relic\n",
      "⬛🟩⬛🟨🟨\n",
      "⬛🟩🟨🟨⬛\n",
      "⬛⬛🟨🟨🟨\n",
      "⬛🟨🟩🟨⬛\n",
      "⬛🟨🟨🟩⬛\n",
      "⬛🟨🟨⬛🟨\n"
     ]
    }
   ],
   "source": [
    "run(randomWord)"
   ]
  }
 ],
 "metadata": {
  "kernelspec": {
   "display_name": "Python 3.11.0 64-bit",
   "language": "python",
   "name": "python3"
  },
  "language_info": {
   "codemirror_mode": {
    "name": "ipython",
    "version": 3
   },
   "file_extension": ".py",
   "mimetype": "text/x-python",
   "name": "python",
   "nbconvert_exporter": "python",
   "pygments_lexer": "ipython3",
   "version": "3.11.0"
  },
  "orig_nbformat": 4,
  "vscode": {
   "interpreter": {
    "hash": "ebfc0a8d552866b0d59eba665220a57de3bc06f3ac643b8bef38dd8f66781fdd"
   }
  }
 },
 "nbformat": 4,
 "nbformat_minor": 2
}
